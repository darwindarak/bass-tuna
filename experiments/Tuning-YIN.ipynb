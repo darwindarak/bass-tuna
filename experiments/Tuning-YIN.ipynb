{
 "cells": [
  {
   "cell_type": "code",
   "execution_count": 1,
   "id": "0112ce85",
   "metadata": {},
   "outputs": [],
   "source": [
    "using FFTW\n",
    "using WAV\n",
    "using GLMakie"
   ]
  },
  {
   "cell_type": "code",
   "execution_count": 2,
   "id": "3913f240",
   "metadata": {},
   "outputs": [
    {
     "data": {
      "text/plain": [
       "([0.00640888698995941; 0.0043641468550675985; … ; -0.031159398174993132; -0.030671102023377177;;], 44100.0f0, 0x0010, WAVChunk[WAVChunk(Symbol(\"fmt \"), UInt8[0x10, 0x00, 0x00, 0x00, 0x01, 0x00, 0x01, 0x00, 0x44, 0xac, 0x00, 0x00, 0x88, 0x58, 0x01, 0x00, 0x02, 0x00, 0x10, 0x00])])"
      ]
     },
     "execution_count": 2,
     "metadata": {},
     "output_type": "execute_result"
    }
   ],
   "source": [
    "y, Fs, nbits, opts  = wavread(\"/Users/darwin/Downloads/Unknown-1.wav\")"
   ]
  },
  {
   "cell_type": "code",
   "execution_count": 3,
   "id": "f549f315",
   "metadata": {},
   "outputs": [
    {
     "data": {
      "text/plain": [
       "difference (generic function with 1 method)"
      ]
     },
     "execution_count": 3,
     "metadata": {},
     "output_type": "execute_result"
    }
   ],
   "source": [
    "function difference(x::AbstractArray, τ)\n",
    "    d = zero(eltype(x))\n",
    "    N = length(x)\n",
    "    for j in 1:N-τ\n",
    "        d += (x[j] - x[j+τ])^2\n",
    "    end\n",
    "    return d\n",
    "end"
   ]
  },
  {
   "cell_type": "code",
   "execution_count": 4,
   "id": "e52c7b2e",
   "metadata": {},
   "outputs": [
    {
     "data": {
      "text/plain": [
       "first_local_minimum (generic function with 1 method)"
      ]
     },
     "execution_count": 4,
     "metadata": {},
     "output_type": "execute_result"
    }
   ],
   "source": [
    "function first_local_minimum(x)\n",
    "    for i in 2:length(x)-1\n",
    "        if x[i-1] > x[i] && x[i] < x[i+1]\n",
    "            return (i, x[i])\n",
    "        end\n",
    "    end\n",
    "    return nothing\n",
    "end"
   ]
  },
  {
   "cell_type": "code",
   "execution_count": 5,
   "id": "ef93f373",
   "metadata": {},
   "outputs": [
    {
     "data": {
      "text/plain": [
       "estimate_pitch (generic function with 3 methods)"
      ]
     },
     "execution_count": 5,
     "metadata": {},
     "output_type": "execute_result"
    }
   ],
   "source": [
    "function estimate_pitch(y, Fs, f_min = 30, f_max = 150)\n",
    "    volume = sum(abs.(y))/length(y)\n",
    "    if volume < 0.01\n",
    "        return nothing\n",
    "    end\n",
    "    range = floor(Int, Fs/f_max):ceil(Int, Fs/f_min)\n",
    "    d = [difference(y, j) for j ∈ range]\n",
    "    d′ = [j*d[j]/sum(d[1:j]) for j in 1:length(range)]\n",
    "\n",
    "    ind = findfirst(x -> x < 0.5, d′)\n",
    "\n",
    "    τ = ind + first_local_minimum(d′[ind:end])[1] - 1\n",
    "    interpolation = (d′[τ - 1] - d′[τ + 1])/(2*(2*d′[τ] - d′[τ - 1] - d′[τ + 1]))\n",
    "\n",
    "    τ += range[1] - 1\n",
    "\n",
    "\n",
    "    return Fs/(τ + interpolation)\n",
    "\n",
    "end"
   ]
  },
  {
   "cell_type": "code",
   "execution_count": 6,
   "id": "10731306",
   "metadata": {},
   "outputs": [],
   "source": [
    "f = rand()*(150-30) + 30\n",
    "\n",
    "x = 0:1/Fs:1\n",
    "ys = sin.(2π*f.*x)\n",
    "for _ in 1:rand(2:5)\n",
    "    c = rand()\n",
    "    ys .+= sin.(2π*f.*x)\n",
    "end"
   ]
  },
  {
   "cell_type": "code",
   "execution_count": 7,
   "id": "83a9540a",
   "metadata": {},
   "outputs": [
    {
     "data": {
      "text/plain": [
       "45.744054791431964"
      ]
     },
     "execution_count": 7,
     "metadata": {},
     "output_type": "execute_result"
    }
   ],
   "source": [
    "f_estimate = estimate_pitch(ys, Fs)"
   ]
  },
  {
   "cell_type": "code",
   "execution_count": 8,
   "id": "ad33a301",
   "metadata": {},
   "outputs": [
    {
     "data": {
      "text/plain": [
       "0.2131779183847723"
      ]
     },
     "execution_count": 8,
     "metadata": {},
     "output_type": "execute_result"
    }
   ],
   "source": [
    "1200*log2(f/f_estimate)"
   ]
  }
 ],
 "metadata": {
  "kernelspec": {
   "display_name": "Julia 1.10.5",
   "language": "julia",
   "name": "julia-1.10"
  },
  "language_info": {
   "file_extension": ".jl",
   "mimetype": "application/julia",
   "name": "julia",
   "version": "1.10.5"
  }
 },
 "nbformat": 4,
 "nbformat_minor": 5
}
