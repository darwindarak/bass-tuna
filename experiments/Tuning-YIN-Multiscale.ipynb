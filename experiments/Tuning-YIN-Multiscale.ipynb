{
 "cells": [
  {
   "cell_type": "code",
   "execution_count": 1,
   "id": "0112ce85",
   "metadata": {},
   "outputs": [],
   "source": [
    "using FFTW\n",
    "using WAV\n",
    "using GLMakie\n",
    "\n",
    "using DSP"
   ]
  },
  {
   "cell_type": "code",
   "execution_count": 2,
   "id": "3913f240",
   "metadata": {},
   "outputs": [
    {
     "data": {
      "text/plain": [
       "([0.04535050508133183; 0.045686208685567796; … ; -0.05926694540238655; -0.05917538987395855;;], 44100.0f0, 0x0010, WAVChunk[WAVChunk(Symbol(\"fmt \"), UInt8[0x10, 0x00, 0x00, 0x00, 0x01, 0x00, 0x01, 0x00, 0x44, 0xac, 0x00, 0x00, 0x88, 0x58, 0x01, 0x00, 0x02, 0x00, 0x10, 0x00])])"
      ]
     },
     "execution_count": 2,
     "metadata": {},
     "output_type": "execute_result"
    }
   ],
   "source": [
    "y, Fs, nbits, opts  = wavread(\"/Users/darwin/Downloads/Unknown-2.wav\")"
   ]
  },
  {
   "cell_type": "code",
   "execution_count": 3,
   "id": "e0339f15",
   "metadata": {},
   "outputs": [
    {
     "data": {
      "text/plain": [
       "firwin (generic function with 1 method)"
      ]
     },
     "execution_count": 3,
     "metadata": {},
     "output_type": "execute_result"
    }
   ],
   "source": [
    "function firwin(num_taps, cutoff; window=hamming)\n",
    "    if !(0 < cutoff < 1)\n",
    "        error(\"Cutoff frequency must be between 0 and 1 (normalized to Nyquist).\")\n",
    "    end\n",
    "\n",
    "    # Create the ideal sinc low-pass filter\n",
    "    m = (num_taps - 1) / 2  # Center index\n",
    "    taps = [2 * cutoff * sinc(2 * cutoff * (n - m)) for n in 0:num_taps-1]\n",
    "\n",
    "    # Apply the window function\n",
    "    taps .*= window(num_taps)\n",
    "\n",
    "    # Normalize to ensure unity gain at DC\n",
    "    return taps / sum(taps)\n",
    "end"
   ]
  },
  {
   "cell_type": "code",
   "execution_count": 4,
   "id": "4e00388a",
   "metadata": {},
   "outputs": [
    {
     "data": {
      "text/plain": [
       "difference (generic function with 1 method)"
      ]
     },
     "execution_count": 4,
     "metadata": {},
     "output_type": "execute_result"
    }
   ],
   "source": [
    "function difference(x::AbstractArray, τ)\n",
    "    d = zero(eltype(x))\n",
    "    N = length(x)\n",
    "    for j in 1:N-τ\n",
    "        d += (x[j] - x[j+τ])^2\n",
    "    end\n",
    "    return d\n",
    "end"
   ]
  },
  {
   "cell_type": "code",
   "execution_count": 5,
   "id": "69b428f3",
   "metadata": {},
   "outputs": [
    {
     "data": {
      "text/plain": [
       "first_local_minimum (generic function with 2 methods)"
      ]
     },
     "execution_count": 5,
     "metadata": {},
     "output_type": "execute_result"
    }
   ],
   "source": [
    "function first_local_minimum(x, min_threshold = 1.0)\n",
    "    for i in 2:length(x)-1\n",
    "        \n",
    "        if x[i-1] > x[i] && x[i] < x[i+1]\n",
    "            if x[i] < min_threshold\n",
    "                return (i, x[i])\n",
    "            end\n",
    "        end\n",
    "    end\n",
    "    return nothing\n",
    "end"
   ]
  },
  {
   "cell_type": "code",
   "execution_count": 6,
   "id": "d57241e1",
   "metadata": {},
   "outputs": [
    {
     "data": {
      "text/plain": [
       "decimate_fir (generic function with 1 method)"
      ]
     },
     "execution_count": 6,
     "metadata": {},
     "output_type": "execute_result"
    }
   ],
   "source": [
    "function decimate_fir(signal, fs, cutoff, downsample_factor)\n",
    "    if cutoff >= fs / (2 * downsample_factor)\n",
    "        error(\"Cutoff frequency must be less than the Nyquist frequency after downsampling (fs / (2 * downsample_factor)).\")\n",
    "    end\n",
    "    if downsample_factor < 1\n",
    "        error(\"Downsample factor must be an integer greater than or equal to 1.\")\n",
    "    end\n",
    "\n",
    "    # Design FIR lowpass filter\n",
    "    nyquist = fs / 2\n",
    "    normalized_cutoff = cutoff / nyquist\n",
    "    fir_filter = firwin(31, normalized_cutoff, window=hamming) # 101 taps, Hamming window\n",
    "\n",
    "    # Apply FIR filter to the signal\n",
    "    filtered_signal = filtfilt(fir_filter, signal) # Zero-phase filtering to prevent phase distortion\n",
    "\n",
    "    # Downsample the signal\n",
    "    downsampled_signal = filtered_signal[1:downsample_factor:end]\n",
    "\n",
    "    return downsampled_signal\n",
    "end"
   ]
  },
  {
   "cell_type": "code",
   "execution_count": 7,
   "id": "f26073fd",
   "metadata": {},
   "outputs": [
    {
     "data": {
      "text/plain": [
       "estimate_pitch (generic function with 4 methods)"
      ]
     },
     "execution_count": 7,
     "metadata": {},
     "output_type": "execute_result"
    }
   ],
   "source": [
    "function estimate_pitch(y, Fs, f_min = 30, f_max = 150, interpolate = true)\n",
    "    volume = sum(abs.(y))/length(y)\n",
    "    if volume < 0.01\n",
    "        return nothing\n",
    "    end\n",
    "    range = floor(Int, Fs/f_max):ceil(Int, Fs/f_min)\n",
    "    d = [difference(y, j) for j ∈ range]\n",
    "    d′ = [j*d[j]/sum(d[1:j]) for j in 1:length(range)]\n",
    "\n",
    "#     ind = findfirst(x -> x < 0.1, d′)\n",
    "\n",
    "    τ = first_local_minimum(d′, 0.25)[1] - 1\n",
    "    interpolation = (d′[τ - 1] - d′[τ + 1])/(2*(2*d′[τ] - d′[τ - 1] - d′[τ + 1]))\n",
    "\n",
    "    τ += range[1] - 1\n",
    "    \n",
    "    if interpolate\n",
    "        τ += interpolation\n",
    "    end\n",
    "\n",
    "\n",
    "    return Fs/τ\n",
    "\n",
    "end"
   ]
  },
  {
   "cell_type": "code",
   "execution_count": 8,
   "id": "e907ff7d",
   "metadata": {},
   "outputs": [
    {
     "data": {
      "text/plain": [
       "estimate_pitch_multiscale (generic function with 1 method)"
      ]
     },
     "execution_count": 8,
     "metadata": {},
     "output_type": "execute_result"
    }
   ],
   "source": [
    "function estimate_pitch_multiscale(y, fs, f_min, f_max)\n",
    "    downsample_factor = floor(Int, fs/(5*f_max))\n",
    "    y_filtered = decimate_fir(y, fs, fs/downsample_factor/2.01, downsample_factor)\n",
    "    estimate = estimate_pitch(y_filtered, fs/downsample_factor, f_min, f_max, false)\n",
    "    return estimate_pitch(y, fs, estimate-10, estimate+10)\n",
    "end"
   ]
  },
  {
   "cell_type": "code",
   "execution_count": 11,
   "id": "47a01aa9",
   "metadata": {},
   "outputs": [
    {
     "name": "stdout",
     "output_type": "stream",
     "text": [
      "  0.330521 seconds (1.18 k allocations: 6.929 MiB, 33.98% gc time)\n"
     ]
    },
    {
     "data": {
      "text/plain": [
       "55.99662568183943"
      ]
     },
     "execution_count": 11,
     "metadata": {},
     "output_type": "execute_result"
    }
   ],
   "source": [
    "@time estimate_pitch(y, Fs)"
   ]
  },
  {
   "cell_type": "code",
   "execution_count": 12,
   "id": "5069471b",
   "metadata": {},
   "outputs": [
    {
     "name": "stdout",
     "output_type": "stream",
     "text": [
      "  0.068328 seconds (315 allocations: 5.864 MiB)\n"
     ]
    },
    {
     "data": {
      "text/plain": [
       "55.99624004742257"
      ]
     },
     "execution_count": 12,
     "metadata": {},
     "output_type": "execute_result"
    }
   ],
   "source": [
    "@time estimate_pitch_multiscale(y, Fs, 30, 150)"
   ]
  }
 ],
 "metadata": {
  "kernelspec": {
   "display_name": "Julia 1.10.5",
   "language": "julia",
   "name": "julia-1.10"
  },
  "language_info": {
   "file_extension": ".jl",
   "mimetype": "application/julia",
   "name": "julia",
   "version": "1.10.5"
  }
 },
 "nbformat": 4,
 "nbformat_minor": 5
}
